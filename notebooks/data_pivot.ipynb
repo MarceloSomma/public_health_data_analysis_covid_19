{
 "cells": [
  {
   "cell_type": "code",
   "execution_count": 24,
   "id": "22f0f188-d27d-4c1a-abd5-f5ef4d80a791",
   "metadata": {},
   "outputs": [],
   "source": [
    "import pandas as pd"
   ]
  },
  {
   "cell_type": "code",
   "execution_count": 25,
   "id": "1cfcca12-8657-4fe0-b439-6ed8d4cdd718",
   "metadata": {},
   "outputs": [],
   "source": [
    "# Define the common identifier columns for both datasets\n",
    "ID_COLUMNS = ['Province/State', 'Country/Region', 'Lat', 'Long']\n",
    "DATA_FOLDER = './' # Make sure this matches your folder name"
   ]
  },
  {
   "cell_type": "code",
   "execution_count": 26,
   "id": "81fdc65b-5de0-4868-a18c-76df80085631",
   "metadata": {},
   "outputs": [
    {
     "name": "stdout",
     "output_type": "stream",
     "text": [
      "Loading confirmed cases data from ./time_series_covid19_confirmed_global.csv...\n",
      "Confirmed cases data loaded.\n"
     ]
    }
   ],
   "source": [
    "# --- 1. Load Confirmed Cases Data ---\n",
    "print(f\"Loading confirmed cases data from {DATA_FOLDER}time_series_covid19_confirmed_global.csv...\")\n",
    "try:\n",
    "    df_confirmed = pd.read_csv(f'{DATA_FOLDER}time_series_covid19_confirmed_global.csv')\n",
    "    print(\"Confirmed cases data loaded.\")\n",
    "except FileNotFoundError:\n",
    "    print(f\"Error: {DATA_FOLDER}time_series_covid19_confirmed_global.csv not found. Check path.\")\n",
    "    exit() # Exit if file not found"
   ]
  },
  {
   "cell_type": "code",
   "execution_count": 27,
   "id": "456f69de-3609-46c4-8b72-6bbd297bc8d0",
   "metadata": {},
   "outputs": [
    {
     "name": "stdout",
     "output_type": "stream",
     "text": [
      "Unpivoting confirmed cases data...\n",
      "Confirmed cases data unpivoted.\n"
     ]
    }
   ],
   "source": [
    "# --- 2. Unpivot (Melt) Confirmed Cases Data ---\n",
    "# The columns that are dates need to be \"melted\" into two columns: 'Date' and 'ConfirmedCases'\n",
    "print(\"Unpivoting confirmed cases data...\")\n",
    "# Identify date columns by excluding ID_COLUMNS\n",
    "confirmed_date_columns = [col for col in df_confirmed.columns if col not in ID_COLUMNS]\n",
    "df_confirmed_long = df_confirmed.melt(\n",
    "    id_vars=ID_COLUMNS,\n",
    "    value_vars=confirmed_date_columns,\n",
    "    var_name='Date',\n",
    "    value_name='ConfirmedCases'\n",
    ")\n",
    "print(\"Confirmed cases data unpivoted.\")"
   ]
  },
  {
   "cell_type": "code",
   "execution_count": 28,
   "id": "480d21d8-5293-4150-a570-6dbbeea0c2f0",
   "metadata": {},
   "outputs": [
    {
     "name": "stdout",
     "output_type": "stream",
     "text": [
      "Loading deaths data from ./time_series_covid19_deaths_global.csv...\n",
      "Deaths data loaded.\n"
     ]
    }
   ],
   "source": [
    "# --- 3. Load Deaths Data ---\n",
    "print(f\"Loading deaths data from {DATA_FOLDER}time_series_covid19_deaths_global.csv...\")\n",
    "try:\n",
    "    df_deaths = pd.read_csv(f'{DATA_FOLDER}time_series_covid19_deaths_global.csv')\n",
    "    print(\"Deaths data loaded.\")\n",
    "except FileNotFoundError:\n",
    "    print(f\"Error: {DATA_FOLDER}time_series_covid19_deaths_global.csv not found. Check path.\")\n",
    "    exit() # Exit if file not found"
   ]
  },
  {
   "cell_type": "code",
   "execution_count": 29,
   "id": "7c4f1cfc-f951-461b-869e-9e14c55b5a0e",
   "metadata": {},
   "outputs": [
    {
     "name": "stdout",
     "output_type": "stream",
     "text": [
      "Unpivoting deaths data...\n",
      "Deaths data unpivoted.\n"
     ]
    }
   ],
   "source": [
    "# --- 4. Unpivot (Melt) Deaths Data ---\n",
    "print(\"Unpivoting deaths data...\")\n",
    "# Identify date columns by excluding ID_COLUMNS\n",
    "deaths_date_columns = [col for col in df_deaths.columns if col not in ID_COLUMNS]\n",
    "df_deaths_long = df_deaths.melt(\n",
    "    id_vars=ID_COLUMNS,\n",
    "    value_vars=deaths_date_columns,\n",
    "    var_name='Date',\n",
    "    value_name='Deaths'\n",
    ")\n",
    "print(\"Deaths data unpivoted.\")"
   ]
  },
  {
   "cell_type": "code",
   "execution_count": 30,
   "id": "9f59f061-b1aa-4222-8306-636701f13e90",
   "metadata": {},
   "outputs": [
    {
     "name": "stdout",
     "output_type": "stream",
     "text": [
      "Converting 'Date' column to datetime...\n",
      "Date column conversion complete.\n",
      "Combining confirmed and deaths data...\n",
      "Data combined.\n"
     ]
    }
   ],
   "source": [
    "# --- 5. Convert 'Date' Column to Datetime Objects ---\n",
    "# This ensures proper date sorting and analysis\n",
    "print(\"Converting 'Date' column to datetime...\")\n",
    "df_confirmed_long['Date'] = pd.to_datetime(df_confirmed_long['Date'], format='%m/%d/%y')\n",
    "df_deaths_long['Date'] = pd.to_datetime(df_deaths_long['Date'], format='%m/%d/%y')\n",
    "print(\"Date column conversion complete.\")# --- 6. Combine Confirmed and Deaths Data ---\n",
    "# Merge them on all identifier columns and the new 'Date' column\n",
    "print(\"Combining confirmed and deaths data...\")\n",
    "df_combined_long = pd.merge(\n",
    "    df_confirmed_long,\n",
    "    df_deaths_long,\n",
    "    on=ID_COLUMNS + ['Date'], # Merge on all common columns\n",
    "    how='outer' # Use outer merge to ensure no data is lost\n",
    ")\n",
    "print(\"Data combined.\")"
   ]
  },
  {
   "cell_type": "code",
   "execution_count": 31,
   "id": "11fc66a2-9a13-4517-b86b-bfaa752a9f23",
   "metadata": {},
   "outputs": [
    {
     "name": "stdout",
     "output_type": "stream",
     "text": [
      "Combining confirmed and deaths data...\n",
      "Data combined.\n"
     ]
    }
   ],
   "source": [
    "# --- 6. Combine Confirmed and Deaths Data ---\n",
    "# Merge them on all identifier columns and the new 'Date' column\n",
    "print(\"Combining confirmed and deaths data...\")\n",
    "df_combined_long = pd.merge(\n",
    "    df_confirmed_long,\n",
    "    df_deaths_long,\n",
    "    on=ID_COLUMNS + ['Date'], # Merge on all common columns\n",
    "    how='outer' # Use outer merge to ensure no data is lost\n",
    ")\n",
    "print(\"Data combined.\")"
   ]
  },
  {
   "cell_type": "code",
   "execution_count": 32,
   "id": "09536e06-f9cc-47dd-82d8-597fc5216911",
   "metadata": {},
   "outputs": [],
   "source": [
    "# --- 7. Clean Combined Data (Basic) ---\n",
    "# Fill NaN values in 'Province/State' with a placeholder for consistency\n",
    "df_combined_long['Province/State'] = df_combined_long['Province/State'].fillna('Unknown')\n",
    "# Fill NaN cases/deaths with 0 if they appear after merge\n",
    "df_combined_long['ConfirmedCases'] = df_combined_long['ConfirmedCases'].fillna(0)\n",
    "df_combined_long['Deaths'] = df_combined_long['Deaths'].fillna(0)"
   ]
  },
  {
   "cell_type": "code",
   "execution_count": 33,
   "id": "c5caf28d-038e-48fb-9f8b-07b7ec5faac0",
   "metadata": {},
   "outputs": [
    {
     "name": "stdout",
     "output_type": "stream",
     "text": [
      "Saving combined long-format data to ./covid_global_long_format.csv...\n",
      "Combined long-format data saved successfully!\n"
     ]
    }
   ],
   "source": [
    "# --- 8. Save the Combined, Long-Format Data to a New CSV ---\n",
    "output_filename = f'{DATA_FOLDER}covid_global_long_format.csv'\n",
    "print(f\"Saving combined long-format data to {output_filename}...\")\n",
    "df_combined_long.to_csv(output_filename, index=False)\n",
    "print(\"Combined long-format data saved successfully!\")"
   ]
  },
  {
   "cell_type": "code",
   "execution_count": 35,
   "id": "170ab7a3-689e-4515-a4b8-8f79d32185de",
   "metadata": {},
   "outputs": [
    {
     "data": {
      "text/plain": [
       "Province/State    330327\n",
       "Country/Region    330327\n",
       "Lat               328041\n",
       "Long              328041\n",
       "Date              330327\n",
       "ConfirmedCases    330327\n",
       "Deaths            330327\n",
       "dtype: int64"
      ]
     },
     "execution_count": 35,
     "metadata": {},
     "output_type": "execute_result"
    }
   ],
   "source": [
    "df_combined_long.count()"
   ]
  },
  {
   "cell_type": "code",
   "execution_count": null,
   "id": "65ce0538-3bc7-4aac-918d-9c4fcecc7b53",
   "metadata": {},
   "outputs": [],
   "source": []
  }
 ],
 "metadata": {
  "kernelspec": {
   "display_name": "Python [conda env:base] *",
   "language": "python",
   "name": "conda-base-py"
  },
  "language_info": {
   "codemirror_mode": {
    "name": "ipython",
    "version": 3
   },
   "file_extension": ".py",
   "mimetype": "text/x-python",
   "name": "python",
   "nbconvert_exporter": "python",
   "pygments_lexer": "ipython3",
   "version": "3.13.5"
  }
 },
 "nbformat": 4,
 "nbformat_minor": 5
}
